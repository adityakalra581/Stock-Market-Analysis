{
 "cells": [
  {
   "cell_type": "markdown",
   "metadata": {},
   "source": [
    "# STOCK MARKET ANALYSIS AND PREDICTION (CONT.)"
   ]
  },
  {
   "cell_type": "code",
   "execution_count": 1,
   "metadata": {},
   "outputs": [],
   "source": [
    "# For data processing\n",
    "import pandas as pd\n",
    "import numpy as np\n",
    "\n",
    "# for data visualization\n",
    "import matplotlib.pyplot as plt\n",
    "import seaborn as sns                         # till now i have used it only for grid lines.\n",
    "sns.set_style('whitegrid')                    # provides gridlines in the graph(all of them even if matplotlib is used.)\n",
    "%matplotlib inline                            \n",
    "\n"
   ]
  },
  {
   "cell_type": "markdown",
   "metadata": {},
   "source": [
    "## Reading the data.\n",
    "\n",
    "The data is of **RIL (Reliance Industries limited)** from Jan-2014 to Aug-2019. The data is on monthly basis.\n",
    "Source:https://in.finance.yahoo.com/quote/RELIANCE.NS/history?period1=1388514600&period2=1565893800&interval=1mo&filter=history&frequency=1mo\n"
   ]
  },
  {
   "cell_type": "code",
   "execution_count": 2,
   "metadata": {},
   "outputs": [
    {
     "data": {
      "text/html": [
       "<div>\n",
       "<style scoped>\n",
       "    .dataframe tbody tr th:only-of-type {\n",
       "        vertical-align: middle;\n",
       "    }\n",
       "\n",
       "    .dataframe tbody tr th {\n",
       "        vertical-align: top;\n",
       "    }\n",
       "\n",
       "    .dataframe thead th {\n",
       "        text-align: right;\n",
       "    }\n",
       "</style>\n",
       "<table border=\"1\" class=\"dataframe\">\n",
       "  <thead>\n",
       "    <tr style=\"text-align: right;\">\n",
       "      <th></th>\n",
       "      <th>Open</th>\n",
       "      <th>High</th>\n",
       "      <th>Low</th>\n",
       "      <th>Close</th>\n",
       "      <th>Adj Close</th>\n",
       "      <th>Volume</th>\n",
       "    </tr>\n",
       "    <tr>\n",
       "      <th>Date</th>\n",
       "      <th></th>\n",
       "      <th></th>\n",
       "      <th></th>\n",
       "      <th></th>\n",
       "      <th></th>\n",
       "      <th></th>\n",
       "    </tr>\n",
       "  </thead>\n",
       "  <tbody>\n",
       "    <tr>\n",
       "      <th>2014-01-01</th>\n",
       "      <td>448.725006</td>\n",
       "      <td>449.125000</td>\n",
       "      <td>411.100006</td>\n",
       "      <td>415.575012</td>\n",
       "      <td>380.361298</td>\n",
       "      <td>129600574</td>\n",
       "    </tr>\n",
       "    <tr>\n",
       "      <th>2014-02-01</th>\n",
       "      <td>413.100006</td>\n",
       "      <td>414.899994</td>\n",
       "      <td>396.549988</td>\n",
       "      <td>399.975006</td>\n",
       "      <td>366.083130</td>\n",
       "      <td>83871244</td>\n",
       "    </tr>\n",
       "    <tr>\n",
       "      <th>2014-03-01</th>\n",
       "      <td>400.049988</td>\n",
       "      <td>469.899994</td>\n",
       "      <td>398.575012</td>\n",
       "      <td>465.375000</td>\n",
       "      <td>425.941467</td>\n",
       "      <td>191553198</td>\n",
       "    </tr>\n",
       "    <tr>\n",
       "      <th>2014-04-01</th>\n",
       "      <td>468.000000</td>\n",
       "      <td>494.375000</td>\n",
       "      <td>464.549988</td>\n",
       "      <td>467.899994</td>\n",
       "      <td>428.252533</td>\n",
       "      <td>118291990</td>\n",
       "    </tr>\n",
       "    <tr>\n",
       "      <th>2014-05-01</th>\n",
       "      <td>467.899994</td>\n",
       "      <td>572.625000</td>\n",
       "      <td>462.500000</td>\n",
       "      <td>532.349976</td>\n",
       "      <td>487.241394</td>\n",
       "      <td>189944566</td>\n",
       "    </tr>\n",
       "  </tbody>\n",
       "</table>\n",
       "</div>"
      ],
      "text/plain": [
       "                  Open        High         Low       Close   Adj Close  \\\n",
       "Date                                                                     \n",
       "2014-01-01  448.725006  449.125000  411.100006  415.575012  380.361298   \n",
       "2014-02-01  413.100006  414.899994  396.549988  399.975006  366.083130   \n",
       "2014-03-01  400.049988  469.899994  398.575012  465.375000  425.941467   \n",
       "2014-04-01  468.000000  494.375000  464.549988  467.899994  428.252533   \n",
       "2014-05-01  467.899994  572.625000  462.500000  532.349976  487.241394   \n",
       "\n",
       "               Volume  \n",
       "Date                   \n",
       "2014-01-01  129600574  \n",
       "2014-02-01   83871244  \n",
       "2014-03-01  191553198  \n",
       "2014-04-01  118291990  \n",
       "2014-05-01  189944566  "
      ]
     },
     "execution_count": 2,
     "metadata": {},
     "output_type": "execute_result"
    }
   ],
   "source": [
    "#data = pd.read_excel(r'C:\\Users\\aditya\\Desktop\\IMS DATA SCIENCE\\STATISTICS\\Exer3.xlsx')\n",
    "ril=pd.read_csv(r'C:\\Users\\aditya\\Desktop\\DATA SCIENCE\\Free data\\RELIANCE_Data.csv',parse_dates=['Date'],index_col=['Date'])\n",
    "ril.head()"
   ]
  },
  {
   "cell_type": "markdown",
   "metadata": {},
   "source": [
    "## Reading the data.\n",
    "\n",
    "The data is of **TCS (Tata Consultancy Services)** from Jan-2014 to Aug-2019. The data is on monthly basis.\n",
    "source:https://in.finance.yahoo.com/quote/TCS.NS/history?period1=1388514600&period2=1565980200&interval=1mo&filter=history&frequency=1mo"
   ]
  },
  {
   "cell_type": "code",
   "execution_count": 3,
   "metadata": {},
   "outputs": [
    {
     "data": {
      "text/html": [
       "<div>\n",
       "<style scoped>\n",
       "    .dataframe tbody tr th:only-of-type {\n",
       "        vertical-align: middle;\n",
       "    }\n",
       "\n",
       "    .dataframe tbody tr th {\n",
       "        vertical-align: top;\n",
       "    }\n",
       "\n",
       "    .dataframe thead th {\n",
       "        text-align: right;\n",
       "    }\n",
       "</style>\n",
       "<table border=\"1\" class=\"dataframe\">\n",
       "  <thead>\n",
       "    <tr style=\"text-align: right;\">\n",
       "      <th></th>\n",
       "      <th>Open</th>\n",
       "      <th>High</th>\n",
       "      <th>Low</th>\n",
       "      <th>Close</th>\n",
       "      <th>Adj Close</th>\n",
       "      <th>Volume</th>\n",
       "    </tr>\n",
       "    <tr>\n",
       "      <th>Date</th>\n",
       "      <th></th>\n",
       "      <th></th>\n",
       "      <th></th>\n",
       "      <th></th>\n",
       "      <th></th>\n",
       "      <th></th>\n",
       "    </tr>\n",
       "  </thead>\n",
       "  <tbody>\n",
       "    <tr>\n",
       "      <th>2014-01-01</th>\n",
       "      <td>1090.050049</td>\n",
       "      <td>1192.400024</td>\n",
       "      <td>1073.619995</td>\n",
       "      <td>1120.530029</td>\n",
       "      <td>944.198914</td>\n",
       "      <td>66137366</td>\n",
       "    </tr>\n",
       "    <tr>\n",
       "      <th>2014-02-01</th>\n",
       "      <td>1111.000000</td>\n",
       "      <td>1140.000000</td>\n",
       "      <td>1042.550049</td>\n",
       "      <td>1137.880005</td>\n",
       "      <td>962.242004</td>\n",
       "      <td>45670390</td>\n",
       "    </tr>\n",
       "    <tr>\n",
       "      <th>2014-03-01</th>\n",
       "      <td>1135.900024</td>\n",
       "      <td>1149.500000</td>\n",
       "      <td>1005.700012</td>\n",
       "      <td>1066.569946</td>\n",
       "      <td>901.938904</td>\n",
       "      <td>64102864</td>\n",
       "    </tr>\n",
       "    <tr>\n",
       "      <th>2014-04-01</th>\n",
       "      <td>1072.500000</td>\n",
       "      <td>1132.000000</td>\n",
       "      <td>1050.000000</td>\n",
       "      <td>1094.599976</td>\n",
       "      <td>925.642456</td>\n",
       "      <td>50211136</td>\n",
       "    </tr>\n",
       "    <tr>\n",
       "      <th>2014-05-01</th>\n",
       "      <td>1094.599976</td>\n",
       "      <td>1126.699951</td>\n",
       "      <td>999.750000</td>\n",
       "      <td>1070.680054</td>\n",
       "      <td>905.414734</td>\n",
       "      <td>62287858</td>\n",
       "    </tr>\n",
       "  </tbody>\n",
       "</table>\n",
       "</div>"
      ],
      "text/plain": [
       "                   Open         High          Low        Close   Adj Close  \\\n",
       "Date                                                                         \n",
       "2014-01-01  1090.050049  1192.400024  1073.619995  1120.530029  944.198914   \n",
       "2014-02-01  1111.000000  1140.000000  1042.550049  1137.880005  962.242004   \n",
       "2014-03-01  1135.900024  1149.500000  1005.700012  1066.569946  901.938904   \n",
       "2014-04-01  1072.500000  1132.000000  1050.000000  1094.599976  925.642456   \n",
       "2014-05-01  1094.599976  1126.699951   999.750000  1070.680054  905.414734   \n",
       "\n",
       "              Volume  \n",
       "Date                  \n",
       "2014-01-01  66137366  \n",
       "2014-02-01  45670390  \n",
       "2014-03-01  64102864  \n",
       "2014-04-01  50211136  \n",
       "2014-05-01  62287858  "
      ]
     },
     "execution_count": 3,
     "metadata": {},
     "output_type": "execute_result"
    }
   ],
   "source": [
    "tcs=pd.read_csv(r'C:\\Users\\aditya\\Desktop\\DATA SCIENCE\\Free data\\TCS.NSE.csv',parse_dates=['Date'],index_col=['Date'])\n",
    "tcs.head()\n"
   ]
  },
  {
   "cell_type": "code",
   "execution_count": 49,
   "metadata": {},
   "outputs": [
    {
     "data": {
      "text/html": [
       "<div>\n",
       "<style scoped>\n",
       "    .dataframe tbody tr th:only-of-type {\n",
       "        vertical-align: middle;\n",
       "    }\n",
       "\n",
       "    .dataframe tbody tr th {\n",
       "        vertical-align: top;\n",
       "    }\n",
       "\n",
       "    .dataframe thead th {\n",
       "        text-align: right;\n",
       "    }\n",
       "</style>\n",
       "<table border=\"1\" class=\"dataframe\">\n",
       "  <thead>\n",
       "    <tr style=\"text-align: right;\">\n",
       "      <th></th>\n",
       "      <th>Open</th>\n",
       "      <th>High</th>\n",
       "      <th>Low</th>\n",
       "      <th>Close</th>\n",
       "      <th>Adj Close</th>\n",
       "      <th>Volume</th>\n",
       "      <th>Monthly_Return_r</th>\n",
       "    </tr>\n",
       "    <tr>\n",
       "      <th>Date</th>\n",
       "      <th></th>\n",
       "      <th></th>\n",
       "      <th></th>\n",
       "      <th></th>\n",
       "      <th></th>\n",
       "      <th></th>\n",
       "      <th></th>\n",
       "    </tr>\n",
       "  </thead>\n",
       "  <tbody>\n",
       "    <tr>\n",
       "      <th>2014-01-01</th>\n",
       "      <td>448.725006</td>\n",
       "      <td>449.125000</td>\n",
       "      <td>411.100006</td>\n",
       "      <td>415.575012</td>\n",
       "      <td>380.361298</td>\n",
       "      <td>129600574</td>\n",
       "      <td>NaN</td>\n",
       "    </tr>\n",
       "    <tr>\n",
       "      <th>2014-02-01</th>\n",
       "      <td>413.100006</td>\n",
       "      <td>414.899994</td>\n",
       "      <td>396.549988</td>\n",
       "      <td>399.975006</td>\n",
       "      <td>366.083130</td>\n",
       "      <td>83871244</td>\n",
       "      <td>-0.037538</td>\n",
       "    </tr>\n",
       "    <tr>\n",
       "      <th>2014-03-01</th>\n",
       "      <td>400.049988</td>\n",
       "      <td>469.899994</td>\n",
       "      <td>398.575012</td>\n",
       "      <td>465.375000</td>\n",
       "      <td>425.941467</td>\n",
       "      <td>191553198</td>\n",
       "      <td>0.163510</td>\n",
       "    </tr>\n",
       "    <tr>\n",
       "      <th>2014-04-01</th>\n",
       "      <td>468.000000</td>\n",
       "      <td>494.375000</td>\n",
       "      <td>464.549988</td>\n",
       "      <td>467.899994</td>\n",
       "      <td>428.252533</td>\n",
       "      <td>118291990</td>\n",
       "      <td>0.005426</td>\n",
       "    </tr>\n",
       "    <tr>\n",
       "      <th>2014-05-01</th>\n",
       "      <td>467.899994</td>\n",
       "      <td>572.625000</td>\n",
       "      <td>462.500000</td>\n",
       "      <td>532.349976</td>\n",
       "      <td>487.241394</td>\n",
       "      <td>189944566</td>\n",
       "      <td>0.137743</td>\n",
       "    </tr>\n",
       "  </tbody>\n",
       "</table>\n",
       "</div>"
      ],
      "text/plain": [
       "                  Open        High         Low       Close   Adj Close  \\\n",
       "Date                                                                     \n",
       "2014-01-01  448.725006  449.125000  411.100006  415.575012  380.361298   \n",
       "2014-02-01  413.100006  414.899994  396.549988  399.975006  366.083130   \n",
       "2014-03-01  400.049988  469.899994  398.575012  465.375000  425.941467   \n",
       "2014-04-01  468.000000  494.375000  464.549988  467.899994  428.252533   \n",
       "2014-05-01  467.899994  572.625000  462.500000  532.349976  487.241394   \n",
       "\n",
       "               Volume  Monthly_Return_r  \n",
       "Date                                     \n",
       "2014-01-01  129600574               NaN  \n",
       "2014-02-01   83871244         -0.037538  \n",
       "2014-03-01  191553198          0.163510  \n",
       "2014-04-01  118291990          0.005426  \n",
       "2014-05-01  189944566          0.137743  "
      ]
     },
     "execution_count": 49,
     "metadata": {},
     "output_type": "execute_result"
    }
   ],
   "source": [
    "ril['Monthly_Return_r'] = ril['Close'].pct_change()\n",
    "tcs['Monthly_Return_t'] = tcs['Close'].pct_change()\n",
    "#print(ril['Monthly Return'].head())\n",
    "#print(tcs['Monthly Return'].head())\n",
    "\n",
    "ril.head()"
   ]
  },
  {
   "cell_type": "code",
   "execution_count": 51,
   "metadata": {},
   "outputs": [
    {
     "data": {
      "text/html": [
       "<div>\n",
       "<style scoped>\n",
       "    .dataframe tbody tr th:only-of-type {\n",
       "        vertical-align: middle;\n",
       "    }\n",
       "\n",
       "    .dataframe tbody tr th {\n",
       "        vertical-align: top;\n",
       "    }\n",
       "\n",
       "    .dataframe thead th {\n",
       "        text-align: right;\n",
       "    }\n",
       "</style>\n",
       "<table border=\"1\" class=\"dataframe\">\n",
       "  <thead>\n",
       "    <tr style=\"text-align: right;\">\n",
       "      <th></th>\n",
       "      <th>Open</th>\n",
       "      <th>High</th>\n",
       "      <th>Low</th>\n",
       "      <th>Close</th>\n",
       "      <th>Adj Close</th>\n",
       "      <th>Volume</th>\n",
       "      <th>Monthly_Return_t</th>\n",
       "    </tr>\n",
       "    <tr>\n",
       "      <th>Date</th>\n",
       "      <th></th>\n",
       "      <th></th>\n",
       "      <th></th>\n",
       "      <th></th>\n",
       "      <th></th>\n",
       "      <th></th>\n",
       "      <th></th>\n",
       "    </tr>\n",
       "  </thead>\n",
       "  <tbody>\n",
       "    <tr>\n",
       "      <th>2014-01-01</th>\n",
       "      <td>1090.050049</td>\n",
       "      <td>1192.400024</td>\n",
       "      <td>1073.619995</td>\n",
       "      <td>1120.530029</td>\n",
       "      <td>944.198914</td>\n",
       "      <td>66137366</td>\n",
       "      <td>NaN</td>\n",
       "    </tr>\n",
       "    <tr>\n",
       "      <th>2014-02-01</th>\n",
       "      <td>1111.000000</td>\n",
       "      <td>1140.000000</td>\n",
       "      <td>1042.550049</td>\n",
       "      <td>1137.880005</td>\n",
       "      <td>962.242004</td>\n",
       "      <td>45670390</td>\n",
       "      <td>0.015484</td>\n",
       "    </tr>\n",
       "    <tr>\n",
       "      <th>2014-03-01</th>\n",
       "      <td>1135.900024</td>\n",
       "      <td>1149.500000</td>\n",
       "      <td>1005.700012</td>\n",
       "      <td>1066.569946</td>\n",
       "      <td>901.938904</td>\n",
       "      <td>64102864</td>\n",
       "      <td>-0.062669</td>\n",
       "    </tr>\n",
       "    <tr>\n",
       "      <th>2014-04-01</th>\n",
       "      <td>1072.500000</td>\n",
       "      <td>1132.000000</td>\n",
       "      <td>1050.000000</td>\n",
       "      <td>1094.599976</td>\n",
       "      <td>925.642456</td>\n",
       "      <td>50211136</td>\n",
       "      <td>0.026281</td>\n",
       "    </tr>\n",
       "    <tr>\n",
       "      <th>2014-05-01</th>\n",
       "      <td>1094.599976</td>\n",
       "      <td>1126.699951</td>\n",
       "      <td>999.750000</td>\n",
       "      <td>1070.680054</td>\n",
       "      <td>905.414734</td>\n",
       "      <td>62287858</td>\n",
       "      <td>-0.021853</td>\n",
       "    </tr>\n",
       "  </tbody>\n",
       "</table>\n",
       "</div>"
      ],
      "text/plain": [
       "                   Open         High          Low        Close   Adj Close  \\\n",
       "Date                                                                         \n",
       "2014-01-01  1090.050049  1192.400024  1073.619995  1120.530029  944.198914   \n",
       "2014-02-01  1111.000000  1140.000000  1042.550049  1137.880005  962.242004   \n",
       "2014-03-01  1135.900024  1149.500000  1005.700012  1066.569946  901.938904   \n",
       "2014-04-01  1072.500000  1132.000000  1050.000000  1094.599976  925.642456   \n",
       "2014-05-01  1094.599976  1126.699951   999.750000  1070.680054  905.414734   \n",
       "\n",
       "              Volume  Monthly_Return_t  \n",
       "Date                                    \n",
       "2014-01-01  66137366               NaN  \n",
       "2014-02-01  45670390          0.015484  \n",
       "2014-03-01  64102864         -0.062669  \n",
       "2014-04-01  50211136          0.026281  \n",
       "2014-05-01  62287858         -0.021853  "
      ]
     },
     "execution_count": 51,
     "metadata": {},
     "output_type": "execute_result"
    }
   ],
   "source": [
    "\n",
    "tcs.head()"
   ]
  },
  {
   "cell_type": "markdown",
   "metadata": {},
   "source": [
    "## Creating a DataFrame for Monthly returns"
   ]
  },
  {
   "cell_type": "code",
   "execution_count": 52,
   "metadata": {},
   "outputs": [
    {
     "data": {
      "text/html": [
       "<div>\n",
       "<style scoped>\n",
       "    .dataframe tbody tr th:only-of-type {\n",
       "        vertical-align: middle;\n",
       "    }\n",
       "\n",
       "    .dataframe tbody tr th {\n",
       "        vertical-align: top;\n",
       "    }\n",
       "\n",
       "    .dataframe thead th {\n",
       "        text-align: right;\n",
       "    }\n",
       "</style>\n",
       "<table border=\"1\" class=\"dataframe\">\n",
       "  <thead>\n",
       "    <tr style=\"text-align: right;\">\n",
       "      <th></th>\n",
       "      <th>Monthly_Return_r</th>\n",
       "    </tr>\n",
       "    <tr>\n",
       "      <th>Date</th>\n",
       "      <th></th>\n",
       "    </tr>\n",
       "  </thead>\n",
       "  <tbody>\n",
       "    <tr>\n",
       "      <th>2014-01-01</th>\n",
       "      <td>NaN</td>\n",
       "    </tr>\n",
       "    <tr>\n",
       "      <th>2014-02-01</th>\n",
       "      <td>-0.037538</td>\n",
       "    </tr>\n",
       "    <tr>\n",
       "      <th>2014-03-01</th>\n",
       "      <td>0.163510</td>\n",
       "    </tr>\n",
       "    <tr>\n",
       "      <th>2014-04-01</th>\n",
       "      <td>0.005426</td>\n",
       "    </tr>\n",
       "    <tr>\n",
       "      <th>2014-05-01</th>\n",
       "      <td>0.137743</td>\n",
       "    </tr>\n",
       "  </tbody>\n",
       "</table>\n",
       "</div>"
      ],
      "text/plain": [
       "            Monthly_Return_r\n",
       "Date                        \n",
       "2014-01-01               NaN\n",
       "2014-02-01         -0.037538\n",
       "2014-03-01          0.163510\n",
       "2014-04-01          0.005426\n",
       "2014-05-01          0.137743"
      ]
     },
     "execution_count": 52,
     "metadata": {},
     "output_type": "execute_result"
    }
   ],
   "source": [
    "#ril_close=pd.DataFrame(ril.Close)\n",
    "ril_return=pd.DataFrame(ril.Monthly_Return_r)\n",
    "tcs_return=pd.DataFrame(tcs.Monthly_Return_t)\n",
    "ril_return.head()"
   ]
  },
  {
   "cell_type": "code",
   "execution_count": 53,
   "metadata": {},
   "outputs": [
    {
     "data": {
      "text/html": [
       "<div>\n",
       "<style scoped>\n",
       "    .dataframe tbody tr th:only-of-type {\n",
       "        vertical-align: middle;\n",
       "    }\n",
       "\n",
       "    .dataframe tbody tr th {\n",
       "        vertical-align: top;\n",
       "    }\n",
       "\n",
       "    .dataframe thead th {\n",
       "        text-align: right;\n",
       "    }\n",
       "</style>\n",
       "<table border=\"1\" class=\"dataframe\">\n",
       "  <thead>\n",
       "    <tr style=\"text-align: right;\">\n",
       "      <th></th>\n",
       "      <th>Monthly_Return_t</th>\n",
       "    </tr>\n",
       "    <tr>\n",
       "      <th>Date</th>\n",
       "      <th></th>\n",
       "    </tr>\n",
       "  </thead>\n",
       "  <tbody>\n",
       "    <tr>\n",
       "      <th>2014-01-01</th>\n",
       "      <td>NaN</td>\n",
       "    </tr>\n",
       "    <tr>\n",
       "      <th>2014-02-01</th>\n",
       "      <td>0.015484</td>\n",
       "    </tr>\n",
       "    <tr>\n",
       "      <th>2014-03-01</th>\n",
       "      <td>-0.062669</td>\n",
       "    </tr>\n",
       "    <tr>\n",
       "      <th>2014-04-01</th>\n",
       "      <td>0.026281</td>\n",
       "    </tr>\n",
       "    <tr>\n",
       "      <th>2014-05-01</th>\n",
       "      <td>-0.021853</td>\n",
       "    </tr>\n",
       "  </tbody>\n",
       "</table>\n",
       "</div>"
      ],
      "text/plain": [
       "            Monthly_Return_t\n",
       "Date                        \n",
       "2014-01-01               NaN\n",
       "2014-02-01          0.015484\n",
       "2014-03-01         -0.062669\n",
       "2014-04-01          0.026281\n",
       "2014-05-01         -0.021853"
      ]
     },
     "execution_count": 53,
     "metadata": {},
     "output_type": "execute_result"
    }
   ],
   "source": [
    "tcs_return.head()"
   ]
  },
  {
   "cell_type": "markdown",
   "metadata": {},
   "source": [
    "## MERGING TWO DATAFRAMES!"
   ]
  },
  {
   "cell_type": "code",
   "execution_count": 54,
   "metadata": {},
   "outputs": [
    {
     "data": {
      "text/html": [
       "<div>\n",
       "<style scoped>\n",
       "    .dataframe tbody tr th:only-of-type {\n",
       "        vertical-align: middle;\n",
       "    }\n",
       "\n",
       "    .dataframe tbody tr th {\n",
       "        vertical-align: top;\n",
       "    }\n",
       "\n",
       "    .dataframe thead th {\n",
       "        text-align: right;\n",
       "    }\n",
       "</style>\n",
       "<table border=\"1\" class=\"dataframe\">\n",
       "  <thead>\n",
       "    <tr style=\"text-align: right;\">\n",
       "      <th></th>\n",
       "      <th>Monthly_Return_r</th>\n",
       "      <th>Monthly_Return_t</th>\n",
       "    </tr>\n",
       "    <tr>\n",
       "      <th>Date</th>\n",
       "      <th></th>\n",
       "      <th></th>\n",
       "    </tr>\n",
       "  </thead>\n",
       "  <tbody>\n",
       "    <tr>\n",
       "      <th>2014-01-01</th>\n",
       "      <td>NaN</td>\n",
       "      <td>NaN</td>\n",
       "    </tr>\n",
       "    <tr>\n",
       "      <th>2014-02-01</th>\n",
       "      <td>-0.037538</td>\n",
       "      <td>0.015484</td>\n",
       "    </tr>\n",
       "    <tr>\n",
       "      <th>2014-03-01</th>\n",
       "      <td>0.163510</td>\n",
       "      <td>-0.062669</td>\n",
       "    </tr>\n",
       "    <tr>\n",
       "      <th>2014-04-01</th>\n",
       "      <td>0.005426</td>\n",
       "      <td>0.026281</td>\n",
       "    </tr>\n",
       "    <tr>\n",
       "      <th>2014-05-01</th>\n",
       "      <td>0.137743</td>\n",
       "      <td>-0.021853</td>\n",
       "    </tr>\n",
       "  </tbody>\n",
       "</table>\n",
       "</div>"
      ],
      "text/plain": [
       "            Monthly_Return_r  Monthly_Return_t\n",
       "Date                                          \n",
       "2014-01-01               NaN               NaN\n",
       "2014-02-01         -0.037538          0.015484\n",
       "2014-03-01          0.163510         -0.062669\n",
       "2014-04-01          0.005426          0.026281\n",
       "2014-05-01          0.137743         -0.021853"
      ]
     },
     "execution_count": 54,
     "metadata": {},
     "output_type": "execute_result"
    }
   ],
   "source": [
    "# for joining two dataframes that does not require new columns. \n",
    "#df_row = pd.concat([df1, df2])\n",
    "\n",
    "# For dataframes that requires new columns.\n",
    "# result = pd.concat([df1, df4], axis=1, sort=False)\n",
    "\n",
    "df_mix = pd.concat([ril_return,tcs_return], axis=1, sort=False )\n",
    "df_mix.head()"
   ]
  },
  {
   "cell_type": "markdown",
   "metadata": {},
   "source": [
    "## CORRELATION B/W TCS AND RIL"
   ]
  },
  {
   "cell_type": "code",
   "execution_count": 55,
   "metadata": {},
   "outputs": [
    {
     "data": {
      "text/html": [
       "<div>\n",
       "<style scoped>\n",
       "    .dataframe tbody tr th:only-of-type {\n",
       "        vertical-align: middle;\n",
       "    }\n",
       "\n",
       "    .dataframe tbody tr th {\n",
       "        vertical-align: top;\n",
       "    }\n",
       "\n",
       "    .dataframe thead th {\n",
       "        text-align: right;\n",
       "    }\n",
       "</style>\n",
       "<table border=\"1\" class=\"dataframe\">\n",
       "  <thead>\n",
       "    <tr style=\"text-align: right;\">\n",
       "      <th></th>\n",
       "      <th>Monthly_Return_r</th>\n",
       "      <th>Monthly_Return_t</th>\n",
       "    </tr>\n",
       "  </thead>\n",
       "  <tbody>\n",
       "    <tr>\n",
       "      <th>count</th>\n",
       "      <td>67.000000</td>\n",
       "      <td>67.000000</td>\n",
       "    </tr>\n",
       "    <tr>\n",
       "      <th>mean</th>\n",
       "      <td>0.033274</td>\n",
       "      <td>0.011821</td>\n",
       "    </tr>\n",
       "    <tr>\n",
       "      <th>std</th>\n",
       "      <td>0.195191</td>\n",
       "      <td>0.064337</td>\n",
       "    </tr>\n",
       "    <tr>\n",
       "      <th>min</th>\n",
       "      <td>-0.503941</td>\n",
       "      <td>-0.112447</td>\n",
       "    </tr>\n",
       "    <tr>\n",
       "      <th>25%</th>\n",
       "      <td>-0.038300</td>\n",
       "      <td>-0.030917</td>\n",
       "    </tr>\n",
       "    <tr>\n",
       "      <th>50%</th>\n",
       "      <td>0.013128</td>\n",
       "      <td>0.001830</td>\n",
       "    </tr>\n",
       "    <tr>\n",
       "      <th>75%</th>\n",
       "      <td>0.062460</td>\n",
       "      <td>0.050349</td>\n",
       "    </tr>\n",
       "    <tr>\n",
       "      <th>max</th>\n",
       "      <td>1.075047</td>\n",
       "      <td>0.239708</td>\n",
       "    </tr>\n",
       "  </tbody>\n",
       "</table>\n",
       "</div>"
      ],
      "text/plain": [
       "       Monthly_Return_r  Monthly_Return_t\n",
       "count         67.000000         67.000000\n",
       "mean           0.033274          0.011821\n",
       "std            0.195191          0.064337\n",
       "min           -0.503941         -0.112447\n",
       "25%           -0.038300         -0.030917\n",
       "50%            0.013128          0.001830\n",
       "75%            0.062460          0.050349\n",
       "max            1.075047          0.239708"
      ]
     },
     "execution_count": 55,
     "metadata": {},
     "output_type": "execute_result"
    }
   ],
   "source": [
    "df_mix.describe()"
   ]
  },
  {
   "cell_type": "code",
   "execution_count": 75,
   "metadata": {},
   "outputs": [
    {
     "data": {
      "text/plain": [
       "Text(0.5, 1.0, 'Monthly Returns TCS V/S RIL')"
      ]
     },
     "execution_count": 75,
     "metadata": {},
     "output_type": "execute_result"
    },
    {
     "data": {
      "image/png": "[encoded data removed]",
      "text/plain": [
       "<Figure size 432x432 with 3 Axes>"
      ]
     },
     "metadata": {
      "needs_background": "light"
     },
     "output_type": "display_data"
    }
   ],
   "source": [
    "sns.jointplot(x='Monthly_Return_t',y='Monthly_Return_r', data=df_mix, kind='scatter',height=6 ,color='skyblue' )\n",
    "plt.title('Monthly Returns TCS V/S RIL')"
   ]
  },
  {
   "cell_type": "code",
   "execution_count": 74,
   "metadata": {},
   "outputs": [
    {
     "data": {
      "text/plain": [
       "Text(0.5, 1.0, 'Monthly Returns TCS V/S RIL')"
      ]
     },
     "execution_count": 74,
     "metadata": {},
     "output_type": "execute_result"
    },
    {
     "data": {
      "image/png": "[encoded data removed]",
      "text/plain": [
       "<Figure size 432x432 with 3 Axes>"
      ]
     },
     "metadata": {
      "needs_background": "light"
     },
     "output_type": "display_data"
    }
   ],
   "source": [
    "sns.jointplot(x='Monthly_Return_t',y='Monthly_Return_r', data=df_mix, kind='hex',height=6 ,color='green' )\n",
    "plt.title('Monthly Returns TCS V/S RIL')"
   ]
  },
  {
   "cell_type": "code",
   "execution_count": 71,
   "metadata": {},
   "outputs": [
    {
     "data": {
      "text/plain": [
       "Text(0.5, 1.0, 'Monthly Returns TCS V/S RIL')"
      ]
     },
     "execution_count": 71,
     "metadata": {},
     "output_type": "execute_result"
    },
    {
     "data": {
      "image/png": "[encoded data removed]",
      "text/plain": [
       "<Figure size 432x432 with 3 Axes>"
      ]
     },
     "metadata": {
      "needs_background": "light"
     },
     "output_type": "display_data"
    }
   ],
   "source": [
    "sns.jointplot(x='Monthly_Return_t',y='Monthly_Return_r', data=df_mix, kind='reg',height=6 ,color='gold' )\n",
    "plt.title('Monthly Returns TCS V/S RIL')"
   ]
  },
  {
   "cell_type": "code",
   "execution_count": 78,
   "metadata": {},
   "outputs": [
    {
     "data": {
      "text/plain": [
       "Text(0.5, 1.0, 'Monthly Returns TCS V/S RIL')"
      ]
     },
     "execution_count": 78,
     "metadata": {},
     "output_type": "execute_result"
    },
    {
     "data": {
      "image/png": "[encoded data removed]",
      "text/plain": [
       "<Figure size 432x432 with 3 Axes>"
      ]
     },
     "metadata": {
      "needs_background": "light"
     },
     "output_type": "display_data"
    }
   ],
   "source": [
    "sns.jointplot(x='Monthly_Return_r',y='Monthly_Return_t', data=df_mix, kind='kde',height=6 ,color='brown' )\n",
    "plt.title('Monthly Returns TCS V/S RIL')"
   ]
  },
  {
   "cell_type": "code",
   "execution_count": null,
   "metadata": {},
   "outputs": [],
   "source": [
    "# Learn More about plotting with seaborn here:"
   ]
  },
  {
   "cell_type": "markdown",
   "metadata": {},
   "source": [
    "## HERE WE ARE DONE WITH ANALYSIS PART!\n"
   ]
  },
  {
   "cell_type": "code",
   "execution_count": null,
   "metadata": {},
   "outputs": [],
   "source": []
  }
 ],
 "metadata": {
  "kernelspec": {
   "display_name": "Python 3",
   "language": "python",
   "name": "python3"
  },
  "language_info": {
   "codemirror_mode": {
    "name": "ipython",
    "version": 3
   },
   "file_extension": ".py",
   "mimetype": "text/x-python",
   "name": "python",
   "nbconvert_exporter": "python",
   "pygments_lexer": "ipython3",
   "version": "3.7.3"
  }
 },
 "nbformat": 4,
 "nbformat_minor": 2
}

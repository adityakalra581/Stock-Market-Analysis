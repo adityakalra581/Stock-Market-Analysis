{
 "cells": [
  {
   "cell_type": "markdown",
   "metadata": {},
   "source": [
    "# STOCK MARKET ANALYSIS AND PREDICTION\n"
   ]
  },
  {
   "cell_type": "markdown",
   "metadata": {},
   "source": [
    "A $stock market$, $equity market$ or $share market$ is the aggregation of buyers and sellers (a loose network of economic transactions, not a physical facility or discrete entity) of stocks (also called shares), which represent ownership claims on businesses; these may include securities listed on a public stock exchange, as well as stock that is only traded privately. Examples of the latter include shares of private companies which are sold to investors through equity crowdfunding platforms. Stock exchanges list shares of common equity as well as other security types, e.g. corporate bonds and convertible bonds."
   ]
  },
  {
   "cell_type": "markdown",
   "metadata": {},
   "source": [
    "![](nse.jpg)"
   ]
  },
  {
   "cell_type": "markdown",
   "metadata": {},
   "source": [
    "## Motivation for this project:\n",
    "\n",
    "There is a lot of $misconception$ in the minds of ordinary working class of the society who are not related to the Stock Market.\n",
    "\n",
    "By this project i will try to provide all the neccessary information about the stock market so that very citizen can make an **informed** and **beneficial decision** for their life. "
   ]
  },
  {
   "cell_type": "markdown",
   "metadata": {},
   "source": [
    "### Some of the Basic Terms to know before Beginning\n",
    "\n",
    "1. **BSE**: The **Bombay Stock Exchange** is an Indian stock exchange located at $Dalal Street, Mumbai$.\n",
    "\n",
    "Established in **1875**, the BSE (formerly known as Bombay Stock Exchange Ltd.) is Asia's first stock exchange. The BSE is the world's 10th largest stock exchange with an overall market capitalization of more than $2.2 trillion on as of April 2018.\n",
    "\n",
    "\n",
    "\n",
    "2. **NSE**: The **National Stock Exchange** of India Limited (NSE) is the leading stock exchange of India, located in Mumbai. The NSE was established in **1992** as the first demutualized electronic exchange in the country.\n",
    "\n",
    "NSE was the first exchange in the country to provide a modern, fully automated screen-based electronic trading system which offered easy trading facility to the investors spread across the length and breadth of the country. Vikram Limaye is Managing Director & Chief Executive Officer of NSE."
   ]
  },
  {
   "cell_type": "markdown",
   "metadata": {},
   "source": [
    "![](stock_market.jpg)"
   ]
  },
  {
   "cell_type": "markdown",
   "metadata": {},
   "source": [
    "### Questions this project will answer:\n",
    "\n",
    "1.) What is stock market.\n",
    "\n",
    "2.) How stock market works.\n",
    "\n",
    "3.) Is investing in stock market $risky$.\n",
    "\n",
    "4.) Which is more beneficial for investing, $Long$ term or $short$ term.\n",
    "\n",
    "5.) When was the **highest Closing prize** and **Volume** was achieved for the taken data. (volume and closing prize are explained inside)\n",
    "\n",
    "6.) What happened to the **indian market** when the **stock market** collapsed.\n",
    "\n",
    "7.) Can stock market make an ordinary citizen **rich**.\n",
    "\n",
    "8.) What is Moving Average.? Why it is important parameter for analysing stocks?\n",
    "                  "
   ]
  },
  {
   "cell_type": "markdown",
   "metadata": {},
   "source": [
    "![](wb.jpg)"
   ]
  },
  {
   "cell_type": "markdown",
   "metadata": {},
   "source": [
    "### So on that note , Let's begin:"
   ]
  },
  {
   "cell_type": "markdown",
   "metadata": {},
   "source": [
    "### Importing Libraries for analysis."
   ]
  },
  {
   "cell_type": "code",
   "execution_count": 2,
   "metadata": {},
   "outputs": [],
   "source": [
    "# For data processing\n",
    "import pandas as pd\n",
    "import numpy as np\n",
    "\n",
    "# for data visualization\n",
    "import matplotlib.pyplot as plt\n",
    "import seaborn as sns                         # till now i have used it only for grid lines.\n",
    "sns.set_style('whitegrid')                    # provides gridlines in the graph(all of them even if matplotlib is used.)\n",
    "%matplotlib inline                            \n",
    "\n"
   ]
  },
  {
   "cell_type": "markdown",
   "metadata": {},
   "source": [
    "### Libraries Explanation\n",
    "\n",
    "%matplotlib is a magic function in IPython. ... %matplotlib inline sets the backend of matplotlib to the 'inline' backend: With this backend, the output of plotting commands is displayed inline within frontends like the Jupyter notebook, directly below the code cell that produced it."
   ]
  },
  {
   "cell_type": "markdown",
   "metadata": {},
   "source": [
    "## RIL:\n",
    "\n",
    "**Reliance Industries Limited (RIL)** is an Indian multinational conglomerate company headquartered in Mumbai, Maharashtra, India. Reliance owns businesses across India engaged in **energy, petrochemicals, textiles, natural resources, retail, and telecommunications**. Reliance is one of the **most profitable** companies in India, the largest publicly traded company in India by market capitalization, and the **largest company in India** as measured by revenue after recently **surpassing the government-controlled Indian Oil Corporation**.\n",
    "\n",
    "On 18 October 2007, Reliance Industries became the first Indian company to breach $100 billion market capitalization.\n",
    "\n",
    "The company is ranked **148th** on the Fortune Global 500 list of the world's biggest corporations as of 2018. It is ranked 8th among the Top 250 Global Energy Companies by Platts as of 2016. Reliance continues to be India’s largest exporter, accounting for 8% of India's total merchandise exports with a value of Rs 147,755 crore and access to markets in 108 countries. Reliance is responsible for almost 5% of the government of India's total revenues from customs and excise duty. It is also the highest income tax payer in the private sector in India.\n",
    "\n",
    "\n",
    "**CEO**: Mukesh Ambani (31 Jul 2002–)\n",
    "\n",
    "**Owner**: Mukesh Ambani (47.35%)\n",
    "\n",
    "**Founder**: Dhirubhai Ambani\n",
    "\n",
    "\n",
    "\n",
    "## Reading the data.\n",
    "\n",
    "The data is of **RIL (Reliance Industries limited)** from Jan-2014 to Aug-2019. The data is on monthly basis.\n",
    "Source:https://in.finance.yahoo.com/quote/RELIANCE.NS/history?period1=1388514600&period2=1565893800&interval=1mo&filter=history&frequency=1mo\n"
   ]
  },
  {
   "cell_type": "code",
   "execution_count": 3,
   "metadata": {},
   "outputs": [
    {
     "data": {
      "text/html": [
       "<div>\n",
       "<style scoped>\n",
       "    .dataframe tbody tr th:only-of-type {\n",
       "        vertical-align: middle;\n",
       "    }\n",
       "\n",
       "    .dataframe tbody tr th {\n",
       "        vertical-align: top;\n",
       "    }\n",
       "\n",
       "    .dataframe thead th {\n",
       "        text-align: right;\n",
       "    }\n",
       "</style>\n",
       "<table border=\"1\" class=\"dataframe\">\n",
       "  <thead>\n",
       "    <tr style=\"text-align: right;\">\n",
       "      <th></th>\n",
       "      <th>Open</th>\n",
       "      <th>High</th>\n",
       "      <th>Low</th>\n",
       "      <th>Close</th>\n",
       "      <th>Adj Close</th>\n",
       "      <th>Volume</th>\n",
       "    </tr>\n",
       "    <tr>\n",
       "      <th>Date</th>\n",
       "      <th></th>\n",
       "      <th></th>\n",
       "      <th></th>\n",
       "      <th></th>\n",
       "      <th></th>\n",
       "      <th></th>\n",
       "    </tr>\n",
       "  </thead>\n",
       "  <tbody>\n",
       "    <tr>\n",
       "      <th>2014-01-01</th>\n",
       "      <td>448.725006</td>\n",
       "      <td>449.125000</td>\n",
       "      <td>411.100006</td>\n",
       "      <td>415.575012</td>\n",
       "      <td>380.361298</td>\n",
       "      <td>129600574</td>\n",
       "    </tr>\n",
       "    <tr>\n",
       "      <th>2014-02-01</th>\n",
       "      <td>413.100006</td>\n",
       "      <td>414.899994</td>\n",
       "      <td>396.549988</td>\n",
       "      <td>399.975006</td>\n",
       "      <td>366.083130</td>\n",
       "      <td>83871244</td>\n",
       "    </tr>\n",
       "    <tr>\n",
       "      <th>2014-03-01</th>\n",
       "      <td>400.049988</td>\n",
       "      <td>469.899994</td>\n",
       "      <td>398.575012</td>\n",
       "      <td>465.375000</td>\n",
       "      <td>425.941467</td>\n",
       "      <td>191553198</td>\n",
       "    </tr>\n",
       "    <tr>\n",
       "      <th>2014-04-01</th>\n",
       "      <td>468.000000</td>\n",
       "      <td>494.375000</td>\n",
       "      <td>464.549988</td>\n",
       "      <td>467.899994</td>\n",
       "      <td>428.252533</td>\n",
       "      <td>118291990</td>\n",
       "    </tr>\n",
       "    <tr>\n",
       "      <th>2014-05-01</th>\n",
       "      <td>467.899994</td>\n",
       "      <td>572.625000</td>\n",
       "      <td>462.500000</td>\n",
       "      <td>532.349976</td>\n",
       "      <td>487.241394</td>\n",
       "      <td>189944566</td>\n",
       "    </tr>\n",
       "  </tbody>\n",
       "</table>\n",
       "</div>"
      ],
      "text/plain": [
       "                  Open        High         Low       Close   Adj Close  \\\n",
       "Date                                                                     \n",
       "2014-01-01  448.725006  449.125000  411.100006  415.575012  380.361298   \n",
       "2014-02-01  413.100006  414.899994  396.549988  399.975006  366.083130   \n",
       "2014-03-01  400.049988  469.899994  398.575012  465.375000  425.941467   \n",
       "2014-04-01  468.000000  494.375000  464.549988  467.899994  428.252533   \n",
       "2014-05-01  467.899994  572.625000  462.500000  532.349976  487.241394   \n",
       "\n",
       "               Volume  \n",
       "Date                   \n",
       "2014-01-01  129600574  \n",
       "2014-02-01   83871244  \n",
       "2014-03-01  191553198  \n",
       "2014-04-01  118291990  \n",
       "2014-05-01  189944566  "
      ]
     },
     "execution_count": 3,
     "metadata": {},
     "output_type": "execute_result"
    }
   ],
   "source": [
    "#data = pd.read_excel(r'C:\\Users\\aditya\\Desktop\\IMS DATA SCIENCE\\STATISTICS\\Exer3.xlsx')\n",
    "ril=pd.read_csv(r'C:\\Users\\aditya\\Desktop\\DATA SCIENCE\\Free data\\RELIANCE_Data.csv',parse_dates=['Date'],index_col=['Date'])\n",
    "ril.head()"
   ]
  },
  {
   "cell_type": "markdown",
   "metadata": {},
   "source": [
    "## TCS:\n",
    "\n",
    "Tata Consultancy Services Limited is an Indian multinational information technology service and consulting company headquartered in Mumbai, Maharashtra, India.\n",
    "\n",
    "It is a subsidiary of Tata Group and operates in 149 locations across 45 countries. TCS is the largest Indian company by market capitalization. \n",
    "\n",
    "Stock price: TCS (NSE) ₹ 2,259.00 +25.55 (+1.14%)\n",
    "\n",
    "**CEO**: Rajesh Gopinathan (21 Feb 2017–)\n",
    "\n",
    "**Revenue**: 2,090 crores USD (2019)\n",
    "\n",
    "**Headquarters**: Mumbai\n",
    "\n",
    "**Founders**: Faquir Chand Kohli, J. R. D. Tata, Tata Sons\n",
    "\n",
    "\n",
    "\n",
    "\n",
    "\n",
    "\n",
    "## Reading the data.\n",
    "\n",
    "The data is of **TCS (Tata Consultancy Services)** from Jan-2014 to Aug-2019. The data is on monthly basis.\n",
    "source:https://in.finance.yahoo.com/quote/TCS.NS/history?period1=1388514600&period2=1565980200&interval=1mo&filter=history&frequency=1mo"
   ]
  },
  {
   "cell_type": "code",
   "execution_count": 6,
   "metadata": {},
   "outputs": [
    {
     "data": {
      "text/html": [
       "<div>\n",
       "<style scoped>\n",
       "    .dataframe tbody tr th:only-of-type {\n",
       "        vertical-align: middle;\n",
       "    }\n",
       "\n",
       "    .dataframe tbody tr th {\n",
       "        vertical-align: top;\n",
       "    }\n",
       "\n",
       "    .dataframe thead th {\n",
       "        text-align: right;\n",
       "    }\n",
       "</style>\n",
       "<table border=\"1\" class=\"dataframe\">\n",
       "  <thead>\n",
       "    <tr style=\"text-align: right;\">\n",
       "      <th></th>\n",
       "      <th>Open</th>\n",
       "      <th>High</th>\n",
       "      <th>Low</th>\n",
       "      <th>Close</th>\n",
       "      <th>Adj Close</th>\n",
       "      <th>Volume</th>\n",
       "    </tr>\n",
       "    <tr>\n",
       "      <th>Date</th>\n",
       "      <th></th>\n",
       "      <th></th>\n",
       "      <th></th>\n",
       "      <th></th>\n",
       "      <th></th>\n",
       "      <th></th>\n",
       "    </tr>\n",
       "  </thead>\n",
       "  <tbody>\n",
       "    <tr>\n",
       "      <th>2014-01-01</th>\n",
       "      <td>1090.050049</td>\n",
       "      <td>1192.400024</td>\n",
       "      <td>1073.619995</td>\n",
       "      <td>1120.530029</td>\n",
       "      <td>944.198914</td>\n",
       "      <td>66137366</td>\n",
       "    </tr>\n",
       "    <tr>\n",
       "      <th>2014-02-01</th>\n",
       "      <td>1111.000000</td>\n",
       "      <td>1140.000000</td>\n",
       "      <td>1042.550049</td>\n",
       "      <td>1137.880005</td>\n",
       "      <td>962.242004</td>\n",
       "      <td>45670390</td>\n",
       "    </tr>\n",
       "    <tr>\n",
       "      <th>2014-03-01</th>\n",
       "      <td>1135.900024</td>\n",
       "      <td>1149.500000</td>\n",
       "      <td>1005.700012</td>\n",
       "      <td>1066.569946</td>\n",
       "      <td>901.938904</td>\n",
       "      <td>64102864</td>\n",
       "    </tr>\n",
       "    <tr>\n",
       "      <th>2014-04-01</th>\n",
       "      <td>1072.500000</td>\n",
       "      <td>1132.000000</td>\n",
       "      <td>1050.000000</td>\n",
       "      <td>1094.599976</td>\n",
       "      <td>925.642456</td>\n",
       "      <td>50211136</td>\n",
       "    </tr>\n",
       "    <tr>\n",
       "      <th>2014-05-01</th>\n",
       "      <td>1094.599976</td>\n",
       "      <td>1126.699951</td>\n",
       "      <td>999.750000</td>\n",
       "      <td>1070.680054</td>\n",
       "      <td>905.414734</td>\n",
       "      <td>62287858</td>\n",
       "    </tr>\n",
       "  </tbody>\n",
       "</table>\n",
       "</div>"
      ],
      "text/plain": [
       "                   Open         High          Low        Close   Adj Close  \\\n",
       "Date                                                                         \n",
       "2014-01-01  1090.050049  1192.400024  1073.619995  1120.530029  944.198914   \n",
       "2014-02-01  1111.000000  1140.000000  1042.550049  1137.880005  962.242004   \n",
       "2014-03-01  1135.900024  1149.500000  1005.700012  1066.569946  901.938904   \n",
       "2014-04-01  1072.500000  1132.000000  1050.000000  1094.599976  925.642456   \n",
       "2014-05-01  1094.599976  1126.699951   999.750000  1070.680054  905.414734   \n",
       "\n",
       "              Volume  \n",
       "Date                  \n",
       "2014-01-01  66137366  \n",
       "2014-02-01  45670390  \n",
       "2014-03-01  64102864  \n",
       "2014-04-01  50211136  \n",
       "2014-05-01  62287858  "
      ]
     },
     "execution_count": 6,
     "metadata": {},
     "output_type": "execute_result"
    }
   ],
   "source": [
    "tcs=pd.read_csv(r'C:\\Users\\aditya\\Desktop\\DATA SCIENCE\\Free data\\TCS.NSE.csv',parse_dates=['Date'],index_col=['Date'])\n",
    "tcs.head()\n"
   ]
  },
  {
   "cell_type": "markdown",
   "metadata": {},
   "source": [
    "## RIL Data Analysis."
   ]
  },
  {
   "cell_type": "markdown",
   "metadata": {},
   "source": [
    "### 1. Closing Price Timeline:\n",
    "\n",
    "A closing price is the trading price of a security at the end of the trading day.\n",
    "End of the trading day means at 3:30pm."
   ]
  },
  {
   "cell_type": "code",
   "execution_count": 4,
   "metadata": {},
   "outputs": [
    {
     "data": {
      "text/plain": [
       "Text(0.5, 1.0, 'RIL Closing Price Timeline')"
      ]
     },
     "execution_count": 4,
     "metadata": {},
     "output_type": "execute_result"
    },
    {
     "data": {
      "image/png": "[encoded data removed]",
      "text/plain": [
       "<Figure size 1080x360 with 1 Axes>"
      ]
     },
     "metadata": {
      "needs_background": "light"
     },
     "output_type": "display_data"
    }
   ],
   "source": [
    "# Timeline of the closing price.\n",
    "\n",
    "ril['Close'].plot(legend=True, figsize=(15,5))  # legend provides Tags.\n",
    "plt.xlabel('Years')\n",
    "plt.ylabel('Closing Price')\n",
    "plt.title('RIL Closing Price Timeline')\n"
   ]
  },
  {
   "cell_type": "markdown",
   "metadata": {},
   "source": [
    "## Describing the Data of RIL"
   ]
  },
  {
   "cell_type": "code",
   "execution_count": 5,
   "metadata": {},
   "outputs": [
    {
     "data": {
      "text/html": [
       "<div>\n",
       "<style scoped>\n",
       "    .dataframe tbody tr th:only-of-type {\n",
       "        vertical-align: middle;\n",
       "    }\n",
       "\n",
       "    .dataframe tbody tr th {\n",
       "        vertical-align: top;\n",
       "    }\n",
       "\n",
       "    .dataframe thead th {\n",
       "        text-align: right;\n",
       "    }\n",
       "</style>\n",
       "<table border=\"1\" class=\"dataframe\">\n",
       "  <thead>\n",
       "    <tr style=\"text-align: right;\">\n",
       "      <th></th>\n",
       "      <th>Open</th>\n",
       "      <th>High</th>\n",
       "      <th>Low</th>\n",
       "      <th>Close</th>\n",
       "      <th>Adj Close</th>\n",
       "      <th>Volume</th>\n",
       "    </tr>\n",
       "  </thead>\n",
       "  <tbody>\n",
       "    <tr>\n",
       "      <th>count</th>\n",
       "      <td>68.000000</td>\n",
       "      <td>68.000000</td>\n",
       "      <td>68.000000</td>\n",
       "      <td>68.000000</td>\n",
       "      <td>68.000000</td>\n",
       "      <td>6.800000e+01</td>\n",
       "    </tr>\n",
       "    <tr>\n",
       "      <th>mean</th>\n",
       "      <td>714.015074</td>\n",
       "      <td>774.220588</td>\n",
       "      <td>677.605149</td>\n",
       "      <td>738.529410</td>\n",
       "      <td>719.684404</td>\n",
       "      <td>1.561539e+08</td>\n",
       "    </tr>\n",
       "    <tr>\n",
       "      <th>std</th>\n",
       "      <td>305.039450</td>\n",
       "      <td>324.366995</td>\n",
       "      <td>284.752410</td>\n",
       "      <td>309.294738</td>\n",
       "      <td>316.957830</td>\n",
       "      <td>4.153639e+07</td>\n",
       "    </tr>\n",
       "    <tr>\n",
       "      <th>min</th>\n",
       "      <td>400.049988</td>\n",
       "      <td>414.899994</td>\n",
       "      <td>396.549988</td>\n",
       "      <td>399.975006</td>\n",
       "      <td>366.083130</td>\n",
       "      <td>8.387124e+07</td>\n",
       "    </tr>\n",
       "    <tr>\n",
       "      <th>25%</th>\n",
       "      <td>482.262504</td>\n",
       "      <td>508.268738</td>\n",
       "      <td>458.093743</td>\n",
       "      <td>489.656257</td>\n",
       "      <td>466.079224</td>\n",
       "      <td>1.293494e+08</td>\n",
       "    </tr>\n",
       "    <tr>\n",
       "      <th>50%</th>\n",
       "      <td>526.075012</td>\n",
       "      <td>569.562500</td>\n",
       "      <td>500.574997</td>\n",
       "      <td>537.099976</td>\n",
       "      <td>521.994903</td>\n",
       "      <td>1.454354e+08</td>\n",
       "    </tr>\n",
       "    <tr>\n",
       "      <th>75%</th>\n",
       "      <td>948.250000</td>\n",
       "      <td>1002.750000</td>\n",
       "      <td>890.537506</td>\n",
       "      <td>961.799988</td>\n",
       "      <td>950.640625</td>\n",
       "      <td>1.749600e+08</td>\n",
       "    </tr>\n",
       "    <tr>\n",
       "      <th>max</th>\n",
       "      <td>1392.800049</td>\n",
       "      <td>1417.500000</td>\n",
       "      <td>1321.000000</td>\n",
       "      <td>1392.800049</td>\n",
       "      <td>1385.129517</td>\n",
       "      <td>2.996622e+08</td>\n",
       "    </tr>\n",
       "  </tbody>\n",
       "</table>\n",
       "</div>"
      ],
      "text/plain": [
       "              Open         High          Low        Close    Adj Close  \\\n",
       "count    68.000000    68.000000    68.000000    68.000000    68.000000   \n",
       "mean    714.015074   774.220588   677.605149   738.529410   719.684404   \n",
       "std     305.039450   324.366995   284.752410   309.294738   316.957830   \n",
       "min     400.049988   414.899994   396.549988   399.975006   366.083130   \n",
       "25%     482.262504   508.268738   458.093743   489.656257   466.079224   \n",
       "50%     526.075012   569.562500   500.574997   537.099976   521.994903   \n",
       "75%     948.250000  1002.750000   890.537506   961.799988   950.640625   \n",
       "max    1392.800049  1417.500000  1321.000000  1392.800049  1385.129517   \n",
       "\n",
       "             Volume  \n",
       "count  6.800000e+01  \n",
       "mean   1.561539e+08  \n",
       "std    4.153639e+07  \n",
       "min    8.387124e+07  \n",
       "25%    1.293494e+08  \n",
       "50%    1.454354e+08  \n",
       "75%    1.749600e+08  \n",
       "max    2.996622e+08  "
      ]
     },
     "execution_count": 5,
     "metadata": {},
     "output_type": "execute_result"
    }
   ],
   "source": [
    "ril.describe()"
   ]
  },
  {
   "cell_type": "markdown",
   "metadata": {},
   "source": [
    "## Maximum Closing Price Achieved on:"
   ]
  },
  {
   "cell_type": "code",
   "execution_count": 6,
   "metadata": {},
   "outputs": [
    {
     "data": {
      "text/plain": [
       "Date\n",
       "2019-01-01    1227.150024\n",
       "2019-02-01    1231.050049\n",
       "2019-03-01    1363.250000\n",
       "2019-04-01    1392.800049\n",
       "2019-05-01    1330.150024\n",
       "2019-06-01    1253.099976\n",
       "Name: Close, dtype: float64"
      ]
     },
     "execution_count": 6,
     "metadata": {},
     "output_type": "execute_result"
    }
   ],
   "source": [
    "# Effort to find the date for highest closing price\n",
    "# the max closing price is 1392.800049\n",
    "# The below code will get us the date for the max closing price\n",
    "\n",
    "ril['2019-01':'2019-06'].Close"
   ]
  },
  {
   "cell_type": "markdown",
   "metadata": {},
   "source": [
    "### Clearly from the above data \n",
    "\n",
    "we can say that in the initial week of $april-2019$, Ril achieved it's **highest ever closing price** till now. "
   ]
  },
  {
   "cell_type": "markdown",
   "metadata": {},
   "source": [
    "### Analysing The Rise and fall of the graph"
   ]
  },
  {
   "cell_type": "code",
   "execution_count": 7,
   "metadata": {},
   "outputs": [
    {
     "name": "stdout",
     "output_type": "stream",
     "text": [
      "Date\n",
      "2015-05-01    438.500000\n",
      "2015-06-01    500.049988\n",
      "2015-07-01    500.924988\n",
      "2015-08-01    869.150024\n",
      "2015-09-01    431.149994\n",
      "Name: Close, dtype: float64\n",
      "Date\n",
      "2016-10-01     527.474976\n",
      "2016-11-01     495.024994\n",
      "2016-12-01    1027.199951\n",
      "2017-01-01     522.599976\n",
      "2017-02-01     619.025024\n",
      "Name: Close, dtype: float64\n"
     ]
    }
   ],
   "source": [
    "print(ril['2015-05':'2015-09'].Close)\n",
    "\n",
    "print(ril['2016-10':'2017-02'].Close)"
   ]
  },
  {
   "cell_type": "markdown",
   "metadata": {},
   "source": [
    "### Some Insights"
   ]
  },
  {
   "cell_type": "markdown",
   "metadata": {},
   "source": [
    "1.Clearly the 63rd month i.e 1st april 2019 'RIL' reached its highest ever closing price which is 1392.800(see the table above).\n",
    "\n",
    "2.There were **two sudden Rise and fall**. The first came in **August 2015** and the second one in **November 2016**. \n",
    "\n",
    "Reasons:\n",
    "\n",
    "**August 2015**: The chinese stock market collapse due to which indian stock market also suffered.\n",
    "\n",
    "\"**On 24 August 2015**, the BSE sensex crashed by 1,624 points and the NSE fell by 490 points. Finally the indices closed at 25,741 points and the Nifty to 7,809 points. The reason given for this crash was given as a ripple effect due to fears over a slowdown in China, as the Yuan had been devalued two weeks ago leading to a fall in the currency rates of other currencies and the rapid selling of stocks in China and India. The Shanghai stock exchange too fell by 8.5%.\"\n",
    "                                      \n",
    "                                                                                                        \n",
    "\n",
    "**November 2016**: $Demonetization$ Took place.\n",
    "\n",
    "\"**On 9 November 2016**, crashed by 1689 points, believed by analysts to be due to the crack down on black money by the Indian government, resulting in franctic selling. The sensex nosedived by 6% to 26,902 and the Nifty dropped by 541 pints to 8002. These were said to be due to the demonetization drive by the Modi government.\"\n",
    "\n",
    "Read more here:\n",
    "Source:https://en.wikipedia.org/wiki/Stock_market_crashes_in_India\n"
   ]
  },
  {
   "cell_type": "markdown",
   "metadata": {},
   "source": [
    "## 2. Volume:\n",
    "\n",
    "Volume is the actual number of shares traded of that particular Company that particular day. Let's say 10 people sold 50,000 shares of Company A on a given day then 50k would be the volume"
   ]
  },
  {
   "cell_type": "code",
   "execution_count": 8,
   "metadata": {},
   "outputs": [
    {
     "data": {
      "text/plain": [
       "Text(0.5, 1.0, 'Shares Exchanged Hands')"
      ]
     },
     "execution_count": 8,
     "metadata": {},
     "output_type": "execute_result"
    },
    {
     "data": {
      "image/png": "[encoded data removed]",
      "text/plain": [
       "<Figure size 1008x216 with 1 Axes>"
      ]
     },
     "metadata": {
      "needs_background": "light"
     },
     "output_type": "display_data"
    }
   ],
   "source": [
    "ril['Volume'].plot(legend=True,figsize=(14,3))\n",
    "plt.xlabel('Years')\n",
    "plt.ylabel('Volume')\n",
    "plt.title('Shares Exchanged Hands')"
   ]
  },
  {
   "cell_type": "markdown",
   "metadata": {},
   "source": [
    "## Describing the data mathematically:"
   ]
  },
  {
   "cell_type": "code",
   "execution_count": 9,
   "metadata": {},
   "outputs": [
    {
     "data": {
      "text/html": [
       "<div>\n",
       "<style scoped>\n",
       "    .dataframe tbody tr th:only-of-type {\n",
       "        vertical-align: middle;\n",
       "    }\n",
       "\n",
       "    .dataframe tbody tr th {\n",
       "        vertical-align: top;\n",
       "    }\n",
       "\n",
       "    .dataframe thead th {\n",
       "        text-align: right;\n",
       "    }\n",
       "</style>\n",
       "<table border=\"1\" class=\"dataframe\">\n",
       "  <thead>\n",
       "    <tr style=\"text-align: right;\">\n",
       "      <th></th>\n",
       "      <th>Open</th>\n",
       "      <th>High</th>\n",
       "      <th>Low</th>\n",
       "      <th>Close</th>\n",
       "      <th>Adj Close</th>\n",
       "      <th>Volume</th>\n",
       "    </tr>\n",
       "  </thead>\n",
       "  <tbody>\n",
       "    <tr>\n",
       "      <th>count</th>\n",
       "      <td>68.000000</td>\n",
       "      <td>68.000000</td>\n",
       "      <td>68.000000</td>\n",
       "      <td>68.000000</td>\n",
       "      <td>68.000000</td>\n",
       "      <td>6.800000e+01</td>\n",
       "    </tr>\n",
       "    <tr>\n",
       "      <th>mean</th>\n",
       "      <td>714.015074</td>\n",
       "      <td>774.220588</td>\n",
       "      <td>677.605149</td>\n",
       "      <td>738.529410</td>\n",
       "      <td>719.684404</td>\n",
       "      <td>1.561539e+08</td>\n",
       "    </tr>\n",
       "    <tr>\n",
       "      <th>std</th>\n",
       "      <td>305.039450</td>\n",
       "      <td>324.366995</td>\n",
       "      <td>284.752410</td>\n",
       "      <td>309.294738</td>\n",
       "      <td>316.957830</td>\n",
       "      <td>4.153639e+07</td>\n",
       "    </tr>\n",
       "    <tr>\n",
       "      <th>min</th>\n",
       "      <td>400.049988</td>\n",
       "      <td>414.899994</td>\n",
       "      <td>396.549988</td>\n",
       "      <td>399.975006</td>\n",
       "      <td>366.083130</td>\n",
       "      <td>8.387124e+07</td>\n",
       "    </tr>\n",
       "    <tr>\n",
       "      <th>25%</th>\n",
       "      <td>482.262504</td>\n",
       "      <td>508.268738</td>\n",
       "      <td>458.093743</td>\n",
       "      <td>489.656257</td>\n",
       "      <td>466.079224</td>\n",
       "      <td>1.293494e+08</td>\n",
       "    </tr>\n",
       "    <tr>\n",
       "      <th>50%</th>\n",
       "      <td>526.075012</td>\n",
       "      <td>569.562500</td>\n",
       "      <td>500.574997</td>\n",
       "      <td>537.099976</td>\n",
       "      <td>521.994903</td>\n",
       "      <td>1.454354e+08</td>\n",
       "    </tr>\n",
       "    <tr>\n",
       "      <th>75%</th>\n",
       "      <td>948.250000</td>\n",
       "      <td>1002.750000</td>\n",
       "      <td>890.537506</td>\n",
       "      <td>961.799988</td>\n",
       "      <td>950.640625</td>\n",
       "      <td>1.749600e+08</td>\n",
       "    </tr>\n",
       "    <tr>\n",
       "      <th>max</th>\n",
       "      <td>1392.800049</td>\n",
       "      <td>1417.500000</td>\n",
       "      <td>1321.000000</td>\n",
       "      <td>1392.800049</td>\n",
       "      <td>1385.129517</td>\n",
       "      <td>2.996622e+08</td>\n",
       "    </tr>\n",
       "  </tbody>\n",
       "</table>\n",
       "</div>"
      ],
      "text/plain": [
       "              Open         High          Low        Close    Adj Close  \\\n",
       "count    68.000000    68.000000    68.000000    68.000000    68.000000   \n",
       "mean    714.015074   774.220588   677.605149   738.529410   719.684404   \n",
       "std     305.039450   324.366995   284.752410   309.294738   316.957830   \n",
       "min     400.049988   414.899994   396.549988   399.975006   366.083130   \n",
       "25%     482.262504   508.268738   458.093743   489.656257   466.079224   \n",
       "50%     526.075012   569.562500   500.574997   537.099976   521.994903   \n",
       "75%     948.250000  1002.750000   890.537506   961.799988   950.640625   \n",
       "max    1392.800049  1417.500000  1321.000000  1392.800049  1385.129517   \n",
       "\n",
       "             Volume  \n",
       "count  6.800000e+01  \n",
       "mean   1.561539e+08  \n",
       "std    4.153639e+07  \n",
       "min    8.387124e+07  \n",
       "25%    1.293494e+08  \n",
       "50%    1.454354e+08  \n",
       "75%    1.749600e+08  \n",
       "max    2.996622e+08  "
      ]
     },
     "execution_count": 9,
     "metadata": {},
     "output_type": "execute_result"
    }
   ],
   "source": [
    "ril.describe()"
   ]
  },
  {
   "cell_type": "code",
   "execution_count": 10,
   "metadata": {},
   "outputs": [
    {
     "data": {
      "text/html": [
       "<div>\n",
       "<style scoped>\n",
       "    .dataframe tbody tr th:only-of-type {\n",
       "        vertical-align: middle;\n",
       "    }\n",
       "\n",
       "    .dataframe tbody tr th {\n",
       "        vertical-align: top;\n",
       "    }\n",
       "\n",
       "    .dataframe thead th {\n",
       "        text-align: right;\n",
       "    }\n",
       "</style>\n",
       "<table border=\"1\" class=\"dataframe\">\n",
       "  <thead>\n",
       "    <tr style=\"text-align: right;\">\n",
       "      <th></th>\n",
       "      <th>Open</th>\n",
       "      <th>High</th>\n",
       "      <th>Low</th>\n",
       "      <th>Close</th>\n",
       "      <th>Adj Close</th>\n",
       "      <th>Volume</th>\n",
       "    </tr>\n",
       "    <tr>\n",
       "      <th>Date</th>\n",
       "      <th></th>\n",
       "      <th></th>\n",
       "      <th></th>\n",
       "      <th></th>\n",
       "      <th></th>\n",
       "      <th></th>\n",
       "    </tr>\n",
       "  </thead>\n",
       "  <tbody>\n",
       "    <tr>\n",
       "      <th>2014-01-01</th>\n",
       "      <td>448.725006</td>\n",
       "      <td>449.125000</td>\n",
       "      <td>411.100006</td>\n",
       "      <td>415.575012</td>\n",
       "      <td>380.361298</td>\n",
       "      <td>129600574</td>\n",
       "    </tr>\n",
       "    <tr>\n",
       "      <th>2014-02-01</th>\n",
       "      <td>413.100006</td>\n",
       "      <td>414.899994</td>\n",
       "      <td>396.549988</td>\n",
       "      <td>399.975006</td>\n",
       "      <td>366.083130</td>\n",
       "      <td>83871244</td>\n",
       "    </tr>\n",
       "    <tr>\n",
       "      <th>2014-03-01</th>\n",
       "      <td>400.049988</td>\n",
       "      <td>469.899994</td>\n",
       "      <td>398.575012</td>\n",
       "      <td>465.375000</td>\n",
       "      <td>425.941467</td>\n",
       "      <td>191553198</td>\n",
       "    </tr>\n",
       "    <tr>\n",
       "      <th>2014-04-01</th>\n",
       "      <td>468.000000</td>\n",
       "      <td>494.375000</td>\n",
       "      <td>464.549988</td>\n",
       "      <td>467.899994</td>\n",
       "      <td>428.252533</td>\n",
       "      <td>118291990</td>\n",
       "    </tr>\n",
       "    <tr>\n",
       "      <th>2014-05-01</th>\n",
       "      <td>467.899994</td>\n",
       "      <td>572.625000</td>\n",
       "      <td>462.500000</td>\n",
       "      <td>532.349976</td>\n",
       "      <td>487.241394</td>\n",
       "      <td>189944566</td>\n",
       "    </tr>\n",
       "  </tbody>\n",
       "</table>\n",
       "</div>"
      ],
      "text/plain": [
       "                  Open        High         Low       Close   Adj Close  \\\n",
       "Date                                                                     \n",
       "2014-01-01  448.725006  449.125000  411.100006  415.575012  380.361298   \n",
       "2014-02-01  413.100006  414.899994  396.549988  399.975006  366.083130   \n",
       "2014-03-01  400.049988  469.899994  398.575012  465.375000  425.941467   \n",
       "2014-04-01  468.000000  494.375000  464.549988  467.899994  428.252533   \n",
       "2014-05-01  467.899994  572.625000  462.500000  532.349976  487.241394   \n",
       "\n",
       "               Volume  \n",
       "Date                   \n",
       "2014-01-01  129600574  \n",
       "2014-02-01   83871244  \n",
       "2014-03-01  191553198  \n",
       "2014-04-01  118291990  \n",
       "2014-05-01  189944566  "
      ]
     },
     "execution_count": 10,
     "metadata": {},
     "output_type": "execute_result"
    }
   ],
   "source": [
    "ril.head()"
   ]
  },
  {
   "cell_type": "code",
   "execution_count": 11,
   "metadata": {},
   "outputs": [
    {
     "data": {
      "text/plain": [
       "Date\n",
       "2016-12-01    135910011\n",
       "2017-01-01    123891914\n",
       "2017-02-01    230243988\n",
       "2017-03-01    299662162\n",
       "2017-04-01    206821142\n",
       "2017-05-01    146792438\n",
       "2017-06-01    169288002\n",
       "Name: Volume, dtype: int64"
      ]
     },
     "execution_count": 11,
     "metadata": {},
     "output_type": "execute_result"
    }
   ],
   "source": [
    "# finding the month for maximum volume\n",
    "# max volume= 2.996622e+08 \n",
    "# From the graph clearly the max. volume is in between 2017 and 2018.\n",
    "\n",
    "# so filtering the data\n",
    "# from 2016 december to 2017 june.\n",
    "\n",
    "\n",
    "ril['2016-12':'2017-06'].Volume"
   ]
  },
  {
   "cell_type": "markdown",
   "metadata": {},
   "source": [
    "### Insights:\n",
    "\n",
    "1.The **greatest Volume** in the History of 'RIL' was achived in **March of 2017**. \n",
    "\n",
    "2.Despite of high variations the mean of volume is not far from the maximum volume."
   ]
  },
  {
   "cell_type": "markdown",
   "metadata": {},
   "source": [
    "## Moving Averages\n",
    "\n",
    "In statistics, a moving average (rolling average or running average) is a calculation to analyze data points by creating a series of averages of different subsets of the full data set. It is also called a moving mean (MM) or rolling mean and is a type of finite impulse response filter. Variations include: simple, and cumulative, or weighted forms.\n",
    "\n",
    "\n",
    "**How Moving Average is calculated?**\n",
    "\n",
    "\n",
    "The simplest form of a moving average, appropriately known as a **simple moving average** (SMA), is calculated by taking the arithmetic mean of a given set of values. In other words, a **set of numbers, or prices in the case of financial instruments, are added together and then divided by the number of prices in the set**.\n",
    "\n",
    "**Why Moving Average is Important?**\n",
    "\n",
    "Moving averages come from statistical analysis. Their most basic function is to create a series of average values of different subsets of the full data set. A natural complement to any time series interpretation, a moving average can **smooth out the noise of random outliers** and emphasize $long-term$ trends."
   ]
  },
  {
   "cell_type": "markdown",
   "metadata": {},
   "source": [
    "![](moving_average.png)"
   ]
  },
  {
   "cell_type": "markdown",
   "metadata": {},
   "source": [
    "### Making a dataframe for closing price only."
   ]
  },
  {
   "cell_type": "code",
   "execution_count": 12,
   "metadata": {},
   "outputs": [
    {
     "data": {
      "text/html": [
       "<div>\n",
       "<style scoped>\n",
       "    .dataframe tbody tr th:only-of-type {\n",
       "        vertical-align: middle;\n",
       "    }\n",
       "\n",
       "    .dataframe tbody tr th {\n",
       "        vertical-align: top;\n",
       "    }\n",
       "\n",
       "    .dataframe thead th {\n",
       "        text-align: right;\n",
       "    }\n",
       "</style>\n",
       "<table border=\"1\" class=\"dataframe\">\n",
       "  <thead>\n",
       "    <tr style=\"text-align: right;\">\n",
       "      <th></th>\n",
       "      <th>Close</th>\n",
       "    </tr>\n",
       "    <tr>\n",
       "      <th>Date</th>\n",
       "      <th></th>\n",
       "    </tr>\n",
       "  </thead>\n",
       "  <tbody>\n",
       "    <tr>\n",
       "      <th>2014-01-01</th>\n",
       "      <td>415.575012</td>\n",
       "    </tr>\n",
       "    <tr>\n",
       "      <th>2014-02-01</th>\n",
       "      <td>399.975006</td>\n",
       "    </tr>\n",
       "    <tr>\n",
       "      <th>2014-03-01</th>\n",
       "      <td>465.375000</td>\n",
       "    </tr>\n",
       "    <tr>\n",
       "      <th>2014-04-01</th>\n",
       "      <td>467.899994</td>\n",
       "    </tr>\n",
       "    <tr>\n",
       "      <th>2014-05-01</th>\n",
       "      <td>532.349976</td>\n",
       "    </tr>\n",
       "    <tr>\n",
       "      <th>2014-06-01</th>\n",
       "      <td>507.700012</td>\n",
       "    </tr>\n",
       "    <tr>\n",
       "      <th>2014-07-01</th>\n",
       "      <td>503.225006</td>\n",
       "    </tr>\n",
       "    <tr>\n",
       "      <th>2014-08-01</th>\n",
       "      <td>499.350006</td>\n",
       "    </tr>\n",
       "    <tr>\n",
       "      <th>2014-09-01</th>\n",
       "      <td>472.850006</td>\n",
       "    </tr>\n",
       "    <tr>\n",
       "      <th>2014-10-01</th>\n",
       "      <td>500.274994</td>\n",
       "    </tr>\n",
       "  </tbody>\n",
       "</table>\n",
       "</div>"
      ],
      "text/plain": [
       "                 Close\n",
       "Date                  \n",
       "2014-01-01  415.575012\n",
       "2014-02-01  399.975006\n",
       "2014-03-01  465.375000\n",
       "2014-04-01  467.899994\n",
       "2014-05-01  532.349976\n",
       "2014-06-01  507.700012\n",
       "2014-07-01  503.225006\n",
       "2014-08-01  499.350006\n",
       "2014-09-01  472.850006\n",
       "2014-10-01  500.274994"
      ]
     },
     "execution_count": 12,
     "metadata": {},
     "output_type": "execute_result"
    }
   ],
   "source": [
    "ril_close=pd.DataFrame(ril.Close)\n",
    "ril_close.head(10)"
   ]
  },
  {
   "cell_type": "code",
   "execution_count": 13,
   "metadata": {},
   "outputs": [],
   "source": [
    "#gld_close['MA_9'] = gld_close.Close.rolling(9).mean().shift()\n",
    "#gld_close['MA_21'] = gld_close.Close.rolling(21).mean()\n",
    "\n",
    "\n",
    "# getting the moving averages for 3 months(Quaterly) and 6 months(Half-yearly)\n",
    "\n",
    "ril_close['MA_3']= ril_close.Close.rolling(3).mean().shift()\n",
    "ril_close['MA_6']= ril_close.Close.rolling(6).mean()"
   ]
  },
  {
   "cell_type": "markdown",
   "metadata": {},
   "source": [
    "## Plotting a graph for moving averages! "
   ]
  },
  {
   "cell_type": "code",
   "execution_count": 42,
   "metadata": {},
   "outputs": [
    {
     "data": {
      "text/plain": [
       "Text(0.5, 1.0, 'Moving Averages Plot')"
      ]
     },
     "execution_count": 42,
     "metadata": {},
     "output_type": "execute_result"
    },
    {
     "data": {
      "image/png": "[encoded data removed]",
      "text/plain": [
       "<Figure size 1080x720 with 1 Axes>"
      ]
     },
     "metadata": {
      "needs_background": "light"
     },
     "output_type": "display_data"
    }
   ],
   "source": [
    "plt.figure(figsize=(15,10))\n",
    "plt.grid(True)\n",
    "plt.plot(ril_close['Close'],label='ril')\n",
    "plt.plot(ril_close['MA_3'], label='MA 3 months')\n",
    "plt.plot(ril_close['MA_6'], label='MA 6 months')\n",
    "plt.legend(loc=2)\n",
    "plt.xlabel('Years')\n",
    "plt.ylabel('Stock Price')\n",
    "plt.title('Moving Averages Plot')"
   ]
  },
  {
   "cell_type": "code",
   "execution_count": 21,
   "metadata": {},
   "outputs": [
    {
     "name": "stdout",
     "output_type": "stream",
     "text": [
      "Date\n",
      "2014-01-01    415.575012\n",
      "2014-02-01    399.975006\n",
      "Name: Close, dtype: float64\n",
      "Date\n",
      "2019-07-01    1166.25\n",
      "2019-08-01    1288.25\n",
      "Name: Close, dtype: float64\n"
     ]
    }
   ],
   "source": [
    "print(ril.head(2).Close)\n",
    "print(ril.tail(2).Close)"
   ]
  },
  {
   "cell_type": "markdown",
   "metadata": {},
   "source": [
    "## NOW WE CAN ANSWER SOME QUESTIONS:\n",
    "\n",
    "### The Most Important one we have to counter is this:\n",
    "### 7.) Can stock market make an ordinary citizen $rich$."
   ]
  },
  {
   "cell_type": "markdown",
   "metadata": {},
   "source": [
    "#### Let's do some maths::\n",
    "\n",
    "If any person say invested a amount on **1st jan 2014** and just $hold$ the shares for 5 years and sold it on **1st August 2019.**\n",
    "\n",
    "**JAN-01-2014**: Closing prize= **415.58**\n",
    "\n",
    "**AUG-01-2019**: Closing prize= **1288.25**\n",
    "\n",
    "Let's say we bought shares of worth 21000/-.\n",
    "\n",
    "That means we bought 21000/415.58= 50.531786900235815. Let's round it off to **50**.  ( calculation is done below )\n",
    "\n",
    "So if we **sold all are shares on 1st August 2019:\n",
    "\n",
    "Then We will get the **amount**: 1288.25 * 50 = **64412.5/-**\n",
    "\n",
    "**SO, 21 thousand converts into 65k in 5 years without any HUSTLE.\n",
    "\n",
    "Let's say if we put this money in bank in (FD or PPF or something)\n",
    "\n",
    "The Atmost return we can get is 10%(**being very generous.**)\n",
    "\n",
    "\n"
   ]
  },
  {
   "cell_type": "code",
   "execution_count": 37,
   "metadata": {
    "scrolled": true
   },
   "outputs": [
    {
     "name": "stdout",
     "output_type": "stream",
     "text": [
      "Shares bought: 50.531786900235815\n",
      "***************************************\n",
      "\n",
      "Amount Recieved by market:  64412.5\n",
      "***************************************\n",
      "\n",
      "profit from stock market:  43412.5\n",
      "***************************************\n",
      "\n",
      "Interest from banks in a year(10%) :  2100.0\n",
      "***************************************\n",
      "\n",
      "Total interest in five years will be:  10500\n",
      "***************************************\n",
      "\n",
      "Amount Recieved from banks after 5 years : 31500\n",
      "***************************************\n",
      "\n",
      "profit from Banks:  10500\n"
     ]
    }
   ],
   "source": [
    "investment=21000\n",
    "shares = print(\"Shares bought:\",21000/415.58)\n",
    "print('***************************************')\n",
    "print()\n",
    "amount =print(\"Amount Recieved by market: \",1288.25*50)\n",
    "print('***************************************')\n",
    "print()\n",
    "profit = print(\"profit from stock market: \",64412.5-21000 )\n",
    "print('***************************************')\n",
    "print()\n",
    "interest_banks = print(\"Interest from banks in a year(10%) : \",21000/10)\n",
    "print('***************************************')\n",
    "print()\n",
    "Total_int_banks = print(\"Total interest in five years will be: \",2100*5)\n",
    "print('***************************************')\n",
    "print()\n",
    "Total_amount_banks= print(\"Amount Recieved from banks after 5 years :\",21000+10500)\n",
    "print('***************************************')\n",
    "print()\n",
    "profit_banks = print(\"profit from Banks: \",31500-21000 )\n"
   ]
  },
  {
   "cell_type": "markdown",
   "metadata": {},
   "source": [
    "SO, YES STOCK MARKET CAN MAKE AN ORDINARY CITIZEN **RICH** BUT NOT **OVERNIGHT**.\n",
    "\n"
   ]
  },
  {
   "cell_type": "markdown",
   "metadata": {},
   "source": [
    "## MONTHLY RETURNS.\n",
    "\n",
    "**Monthly returns is calculated by subtracting the previous month closing prize to the present month.**\n",
    "\n",
    "People say Investing in stock market is like **'GAMBLING'**. This section will provide you the answer why?\n",
    "\n",
    "(for the sake of clarifications i haven't plotted daily returns instead we will work on monthly returns) \n",
    "\n",
    "Also this section will also answer this question:\n",
    "\n",
    "4.) Which is more beneficial for investing, $Long$ term or $short$ term."
   ]
  },
  {
   "cell_type": "code",
   "execution_count": 48,
   "metadata": {},
   "outputs": [
    {
     "data": {
      "text/plain": [
       "Text(0.5, 1.0, 'MONTHLY RETURNS')"
      ]
     },
     "execution_count": 48,
     "metadata": {},
     "output_type": "execute_result"
    },
    {
     "data": {
      "image/png": "[encoded data removed]",
      "text/plain": [
       "<Figure size 864x288 with 1 Axes>"
      ]
     },
     "metadata": {
      "needs_background": "light"
     },
     "output_type": "display_data"
    }
   ],
   "source": [
    "# We'll use pct_change to find the percent change for each month.\n",
    "\n",
    "#Pandas pct_change() method is applied on series with numeric data to calculate Percentage change \n",
    "#after n number of elements. By default, it calculates percentage change of current element from the previous element.\n",
    "# Read more about pct_change() here: https://www.geeksforgeeks.org/python-pandas-series-pct_change/\n",
    "\n",
    "ril['Monthly Return'] = ril['Close'].pct_change()\n",
    "ril['Monthly Return'].plot(figsize=(12,4),legend=True, linestyle='-',marker='*')\n",
    "plt.xlabel('MONTHS')\n",
    "plt.ylabel('Returns')\n",
    "plt.title('MONTHLY RETURNS')"
   ]
  },
  {
   "cell_type": "markdown",
   "metadata": {},
   "source": [
    "Clearly the plot revealed that if you compare previous month with the present the **returns can go to negative** as well."
   ]
  },
  {
   "cell_type": "code",
   "execution_count": 49,
   "metadata": {},
   "outputs": [
    {
     "data": {
      "text/html": [
       "<div>\n",
       "<style scoped>\n",
       "    .dataframe tbody tr th:only-of-type {\n",
       "        vertical-align: middle;\n",
       "    }\n",
       "\n",
       "    .dataframe tbody tr th {\n",
       "        vertical-align: top;\n",
       "    }\n",
       "\n",
       "    .dataframe thead th {\n",
       "        text-align: right;\n",
       "    }\n",
       "</style>\n",
       "<table border=\"1\" class=\"dataframe\">\n",
       "  <thead>\n",
       "    <tr style=\"text-align: right;\">\n",
       "      <th></th>\n",
       "      <th>Open</th>\n",
       "      <th>High</th>\n",
       "      <th>Low</th>\n",
       "      <th>Close</th>\n",
       "      <th>Adj Close</th>\n",
       "      <th>Volume</th>\n",
       "      <th>Monthly Return</th>\n",
       "    </tr>\n",
       "    <tr>\n",
       "      <th>Date</th>\n",
       "      <th></th>\n",
       "      <th></th>\n",
       "      <th></th>\n",
       "      <th></th>\n",
       "      <th></th>\n",
       "      <th></th>\n",
       "      <th></th>\n",
       "    </tr>\n",
       "  </thead>\n",
       "  <tbody>\n",
       "    <tr>\n",
       "      <th>2014-01-01</th>\n",
       "      <td>448.725006</td>\n",
       "      <td>449.125000</td>\n",
       "      <td>411.100006</td>\n",
       "      <td>415.575012</td>\n",
       "      <td>380.361298</td>\n",
       "      <td>129600574</td>\n",
       "      <td>NaN</td>\n",
       "    </tr>\n",
       "    <tr>\n",
       "      <th>2014-02-01</th>\n",
       "      <td>413.100006</td>\n",
       "      <td>414.899994</td>\n",
       "      <td>396.549988</td>\n",
       "      <td>399.975006</td>\n",
       "      <td>366.083130</td>\n",
       "      <td>83871244</td>\n",
       "      <td>-0.037538</td>\n",
       "    </tr>\n",
       "    <tr>\n",
       "      <th>2014-03-01</th>\n",
       "      <td>400.049988</td>\n",
       "      <td>469.899994</td>\n",
       "      <td>398.575012</td>\n",
       "      <td>465.375000</td>\n",
       "      <td>425.941467</td>\n",
       "      <td>191553198</td>\n",
       "      <td>0.163510</td>\n",
       "    </tr>\n",
       "    <tr>\n",
       "      <th>2014-04-01</th>\n",
       "      <td>468.000000</td>\n",
       "      <td>494.375000</td>\n",
       "      <td>464.549988</td>\n",
       "      <td>467.899994</td>\n",
       "      <td>428.252533</td>\n",
       "      <td>118291990</td>\n",
       "      <td>0.005426</td>\n",
       "    </tr>\n",
       "    <tr>\n",
       "      <th>2014-05-01</th>\n",
       "      <td>467.899994</td>\n",
       "      <td>572.625000</td>\n",
       "      <td>462.500000</td>\n",
       "      <td>532.349976</td>\n",
       "      <td>487.241394</td>\n",
       "      <td>189944566</td>\n",
       "      <td>0.137743</td>\n",
       "    </tr>\n",
       "  </tbody>\n",
       "</table>\n",
       "</div>"
      ],
      "text/plain": [
       "                  Open        High         Low       Close   Adj Close  \\\n",
       "Date                                                                     \n",
       "2014-01-01  448.725006  449.125000  411.100006  415.575012  380.361298   \n",
       "2014-02-01  413.100006  414.899994  396.549988  399.975006  366.083130   \n",
       "2014-03-01  400.049988  469.899994  398.575012  465.375000  425.941467   \n",
       "2014-04-01  468.000000  494.375000  464.549988  467.899994  428.252533   \n",
       "2014-05-01  467.899994  572.625000  462.500000  532.349976  487.241394   \n",
       "\n",
       "               Volume  Monthly Return  \n",
       "Date                                   \n",
       "2014-01-01  129600574             NaN  \n",
       "2014-02-01   83871244       -0.037538  \n",
       "2014-03-01  191553198        0.163510  \n",
       "2014-04-01  118291990        0.005426  \n",
       "2014-05-01  189944566        0.137743  "
      ]
     },
     "execution_count": 49,
     "metadata": {},
     "output_type": "execute_result"
    }
   ],
   "source": [
    "#del df['column_name']\n",
    "\n",
    "ril.head()"
   ]
  },
  {
   "cell_type": "code",
   "execution_count": 50,
   "metadata": {},
   "outputs": [
    {
     "data": {
      "text/plain": [
       "Date\n",
       "2014-01-01         NaN\n",
       "2014-02-01   -0.037538\n",
       "2014-03-01    0.163510\n",
       "2014-04-01    0.005426\n",
       "2014-05-01    0.137743\n",
       "2014-06-01   -0.046304\n",
       "2014-07-01   -0.008814\n",
       "2014-08-01   -0.007700\n",
       "2014-09-01   -0.053069\n",
       "2014-10-01    0.057999\n",
       "2014-11-01   -0.008945\n",
       "2014-12-01   -0.101301\n",
       "Name: Monthly Return, dtype: float64"
      ]
     },
     "execution_count": 50,
     "metadata": {},
     "output_type": "execute_result"
    }
   ],
   "source": [
    "ril['Monthly Return'].head(12)"
   ]
  },
  {
   "cell_type": "markdown",
   "metadata": {},
   "source": [
    "### After this plot we can clearly say that for an inexperienced investor: Long term investment is best \n",
    "\n",
    "After this, the quote of **Benjamin Graham** became quite popular. "
   ]
  },
  {
   "cell_type": "markdown",
   "metadata": {},
   "source": [
    "![](lti.jpg)"
   ]
  },
  {
   "cell_type": "code",
   "execution_count": null,
   "metadata": {},
   "outputs": [],
   "source": []
  }
 ],
 "metadata": {
  "kernelspec": {
   "display_name": "Python 3",
   "language": "python",
   "name": "python3"
  },
  "language_info": {
   "codemirror_mode": {
    "name": "ipython",
    "version": 3
   },
   "file_extension": ".py",
   "mimetype": "text/x-python",
   "name": "python",
   "nbconvert_exporter": "python",
   "pygments_lexer": "ipython3",
   "version": "3.7.3"
  }
 },
 "nbformat": 4,
 "nbformat_minor": 2
}
